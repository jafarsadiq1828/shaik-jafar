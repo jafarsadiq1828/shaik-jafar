{
 "cells": [
  {
   "cell_type": "code",
   "execution_count": null,
   "id": "f9eb0ad3-edbe-40bd-824a-b00d648da7e8",
   "metadata": {},
   "outputs": [],
   "source": [
    ". No Parameters, Returns a String\n"
   ]
  },
  {
   "cell_type": "code",
   "execution_count": 21,
   "id": "0a8da241-4ee9-4d1c-b792-0dc211da8167",
   "metadata": {},
   "outputs": [
    {
     "name": "stdout",
     "output_type": "stream",
     "text": [
      "Hello, welcome!\n"
     ]
    }
   ],
   "source": [
    "def greet():\n",
    "    return \"Hello, welcome!\"\n",
    "\n",
    "\n",
    "print(greet())\n"
   ]
  },
  {
   "cell_type": "code",
   "execution_count": null,
   "id": "8f8be51d-1490-4d78-b4a6-a283b5bdbcba",
   "metadata": {},
   "outputs": [],
   "source": [
    "One Parameter, Returns an Integer"
   ]
  },
  {
   "cell_type": "code",
   "execution_count": 22,
   "id": "64525f97-e110-49ef-85f7-97175d9e45e4",
   "metadata": {},
   "outputs": [
    {
     "name": "stdout",
     "output_type": "stream",
     "text": [
      "25\n"
     ]
    }
   ],
   "source": [
    "def square(number):\n",
    "    return number * number\n",
    "\n",
    "\n",
    "print(square(5))  \n"
   ]
  },
  {
   "cell_type": "code",
   "execution_count": null,
   "id": "6e3bb2f7-60a2-41f1-b103-5e6698c9913c",
   "metadata": {},
   "outputs": [],
   "source": [
    " Two Parameters, Returns a Boolean"
   ]
  },
  {
   "cell_type": "code",
   "execution_count": 23,
   "id": "c2ba151f-6a68-4a43-bf73-063420635665",
   "metadata": {},
   "outputs": [
    {
     "name": "stdout",
     "output_type": "stream",
     "text": [
      "True\n",
      "False\n"
     ]
    }
   ],
   "source": [
    "def is_greater(num1, num2):\n",
    "    return num1 > num2\n",
    "\n",
    "print(is_greater(10, 7))  \n",
    "print(is_greater(4, 12))  \n"
   ]
  },
  {
   "cell_type": "code",
   "execution_count": null,
   "id": "875e0668-16ae-4db1-be08-bb6499d9000c",
   "metadata": {},
   "outputs": [],
   "source": [
    ". Three Parameters, Returns a List"
   ]
  },
  {
   "cell_type": "code",
   "execution_count": 24,
   "id": "fed93c6b-e41d-4a4f-8d19-d4fe18e90b54",
   "metadata": {},
   "outputs": [
    {
     "name": "stdout",
     "output_type": "stream",
     "text": [
      "['apple', 'banana', 'cherry']\n"
     ]
    }
   ],
   "source": [
    "def create_list(item1, item2, item3):\n",
    "    return [item1, item2, item3]\n",
    "\n",
    "\n",
    "print(create_list(\"apple\", \"banana\", \"cherry\")) \n"
   ]
  },
  {
   "cell_type": "code",
   "execution_count": null,
   "id": "d03c7dc2-33eb-4f05-acf7-34933618eaf5",
   "metadata": {},
   "outputs": [],
   "source": [
    "Four Parameters, Returns a Dictionary"
   ]
  },
  {
   "cell_type": "code",
   "execution_count": 25,
   "id": "6631184b-a0cb-4c29-82df-6465ae72edaf",
   "metadata": {},
   "outputs": [
    {
     "name": "stdout",
     "output_type": "stream",
     "text": [
      "{'Name': 'Alice', 'Age': 30, 'City': 'New York', 'Job': 'Engineer'}\n"
     ]
    }
   ],
   "source": [
    "def create_person_info(name, age, city, job):\n",
    "    return {\n",
    "        \"Name\": name,\n",
    "        \"Age\": age,\n",
    "        \"City\": city,\n",
    "        \"Job\": job\n",
    "    }\n",
    "\n",
    "\n",
    "print(create_person_info(\"Alice\", 30, \"New York\", \"Engineer\"))\n",
    "\n"
   ]
  },
  {
   "cell_type": "code",
   "execution_count": null,
   "id": "364251c7-bbaa-451c-ae0c-e20de75e0e1c",
   "metadata": {},
   "outputs": [],
   "source": [
    " Five Parameters, Returns None"
   ]
  },
  {
   "cell_type": "code",
   "execution_count": 26,
   "id": "18d2df66-a92e-46ff-8650-cba0570091b9",
   "metadata": {},
   "outputs": [
    {
     "name": "stdout",
     "output_type": "stream",
     "text": [
      "Name: Bob\n",
      "Age: 25\n",
      "City: Toronto\n",
      "Job: Designer\n",
      "Country: Canada\n"
     ]
    }
   ],
   "source": [
    "def print_person_details(name, age, city, job, country):\n",
    "    print(f\"Name: {name}\")\n",
    "    print(f\"Age: {age}\")\n",
    "    print(f\"City: {city}\")\n",
    "    print(f\"Job: {job}\")\n",
    "    print(f\"Country: {country}\")\n",
    "\n",
    "\n",
    "print_person_details(\"Bob\", 25, \"Toronto\", \"Designer\", \"Canada\")\n"
   ]
  },
  {
   "cell_type": "code",
   "execution_count": null,
   "id": "a8d3b993-963c-440d-b857-8213b21d2e35",
   "metadata": {},
   "outputs": [],
   "source": [
    " Simple Lambda Functions\n",
    "Lambda functions are single-line, anonymous functions defined with the lambda keyword. Here are a few basic examples:"
   ]
  },
  {
   "cell_type": "code",
   "execution_count": 27,
   "id": "6cc21825-9450-4a4c-b86d-337dfce09a01",
   "metadata": {},
   "outputs": [
    {
     "name": "stdout",
     "output_type": "stream",
     "text": [
      "8\n"
     ]
    }
   ],
   "source": [
    "add = lambda x, y: x + y\n",
    "print(add(3, 5))  \n"
   ]
  },
  {
   "cell_type": "code",
   "execution_count": null,
   "id": "999f4aba-4e41-4f0c-b81e-c6b3462db08b",
   "metadata": {},
   "outputs": [],
   "source": [
    "Square a number:\n"
   ]
  },
  {
   "cell_type": "code",
   "execution_count": 28,
   "id": "dfed2338-bfd4-44eb-87c0-176f0798286d",
   "metadata": {},
   "outputs": [
    {
     "name": "stdout",
     "output_type": "stream",
     "text": [
      "36\n"
     ]
    }
   ],
   "source": [
    "square = lambda x: x ** 2\n",
    "print(square(6))  \n"
   ]
  },
  {
   "cell_type": "code",
   "execution_count": null,
   "id": "72979d44-9ee2-4549-b1a5-fd5c5c381922",
   "metadata": {},
   "outputs": [],
   "source": [
    "Check if a number is even:"
   ]
  },
  {
   "cell_type": "code",
   "execution_count": 29,
   "id": "bba562e9-f40a-4d2b-8f09-12f9f002df65",
   "metadata": {},
   "outputs": [
    {
     "name": "stdout",
     "output_type": "stream",
     "text": [
      "True\n",
      "False\n"
     ]
    }
   ],
   "source": [
    "is_even = lambda x: x % 2 == 0\n",
    "print(is_even(10))  \n",
    "print(is_even(7))   \n"
   ]
  },
  {
   "cell_type": "code",
   "execution_count": null,
   "id": "9102dda0-b235-4acd-a23b-d0bd664e9cd2",
   "metadata": {},
   "outputs": [],
   "source": [
    "Using Lambda with map\n",
    "The map function applies a function to all elements in a list. Here’s how to use it with a lambda function:"
   ]
  },
  {
   "cell_type": "code",
   "execution_count": null,
   "id": "840e2659-5102-41d5-b9c9-b13156978dd9",
   "metadata": {},
   "outputs": [],
   "source": [
    "Square each element in a list:"
   ]
  },
  {
   "cell_type": "code",
   "execution_count": 30,
   "id": "af816101-0aef-428e-8590-943391fdc6c4",
   "metadata": {},
   "outputs": [
    {
     "name": "stdout",
     "output_type": "stream",
     "text": [
      "[1, 4, 9, 16]\n"
     ]
    }
   ],
   "source": [
    "numbers = [1, 2, 3, 4]\n",
    "squares = list(map(lambda x: x ** 2, numbers))\n",
    "print(squares)  \n"
   ]
  },
  {
   "cell_type": "code",
   "execution_count": null,
   "id": "f8a5eab8-7eda-4f97-ab2a-d8ff9676327f",
   "metadata": {},
   "outputs": [],
   "source": [
    "Using Lambda with filter\n",
    "The filter function filters elements in a list based on a condition"
   ]
  },
  {
   "cell_type": "code",
   "execution_count": null,
   "id": "46bca65f-cc27-46ba-882e-92ee9c5e7aad",
   "metadata": {},
   "outputs": [],
   "source": [
    "Filter even numbers from a list"
   ]
  },
  {
   "cell_type": "code",
   "execution_count": 31,
   "id": "3c682ca7-fe35-48cd-9f21-192678a2e0bd",
   "metadata": {},
   "outputs": [
    {
     "name": "stdout",
     "output_type": "stream",
     "text": [
      "[2, 4, 6]\n"
     ]
    }
   ],
   "source": [
    "numbers = [1, 2, 3, 4, 5, 6]\n",
    "evens = list(filter(lambda x: x % 2 == 0, numbers))\n",
    "print(evens)  \n"
   ]
  },
  {
   "cell_type": "code",
   "execution_count": null,
   "id": "0b30e067-892f-4217-b0b8-61f4f9823827",
   "metadata": {},
   "outputs": [],
   "source": [
    "Using Lambda with reduce\n",
    "The reduce function from the functools module applies a function cumulatively to the items of a sequence.\n",
    "\n",
    "Sum all numbers in a list:\n",
    "python"
   ]
  },
  {
   "cell_type": "code",
   "execution_count": 32,
   "id": "d7c5a212-583c-406e-a5cb-e85cdc037777",
   "metadata": {},
   "outputs": [
    {
     "name": "stdout",
     "output_type": "stream",
     "text": [
      "10\n"
     ]
    }
   ],
   "source": [
    "from functools import reduce\n",
    "numbers = [1, 2, 3, 4]\n",
    "total = reduce(lambda x, y: x + y, numbers)\n",
    "print(total)  "
   ]
  },
  {
   "cell_type": "code",
   "execution_count": null,
   "id": "a3bb0916-37f9-48be-939e-18553ffceee2",
   "metadata": {},
   "outputs": [],
   "source": [
    "Comparing Lambda Functions with Regular Functions\n",
    "Syntax Comparison:\n",
    "Lambda functions are generally more concise and don’t require a function name. Here’s a quick comparison:\n",
    "\n",
    "Lambda Function:"
   ]
  },
  {
   "cell_type": "code",
   "execution_count": 33,
   "id": "b7361ba3-24d5-4f93-93cd-844fcfb0526b",
   "metadata": {},
   "outputs": [
    {
     "name": "stdout",
     "output_type": "stream",
     "text": [
      "20\n"
     ]
    }
   ],
   "source": [
    "multiply = lambda x, y: x * y\n",
    "print(multiply(4, 5)) \n"
   ]
  },
  {
   "cell_type": "code",
   "execution_count": null,
   "id": "eda3b7fc-320c-42fe-9d29-7f0334fb7d4b",
   "metadata": {},
   "outputs": [],
   "source": [
    "Regular Function:"
   ]
  },
  {
   "cell_type": "code",
   "execution_count": 34,
   "id": "846d05d7-60a4-4c1a-b626-7c943ff91e09",
   "metadata": {},
   "outputs": [
    {
     "name": "stdout",
     "output_type": "stream",
     "text": [
      "20\n"
     ]
    }
   ],
   "source": [
    "def multiply(x, y):\n",
    "    return x * y\n",
    "print(multiply(4, 5)) \n"
   ]
  },
  {
   "cell_type": "code",
   "execution_count": null,
   "id": "54ca9f70-a9b2-4cb7-9cb5-b5d46c7e222b",
   "metadata": {},
   "outputs": [],
   "source": [
    "Creating Different Types of NumPy Arrays\n",
    "To get started, we’ll need to import NumPy:"
   ]
  },
  {
   "cell_type": "code",
   "execution_count": 35,
   "id": "4486f998-46d6-4ebf-8b75-5f5e55670cf7",
   "metadata": {},
   "outputs": [],
   "source": [
    "import numpy as np\n"
   ]
  },
  {
   "cell_type": "code",
   "execution_count": null,
   "id": "9952219c-032e-4ddc-b679-82870e51e21e",
   "metadata": {},
   "outputs": [],
   "source": [
    "1D Array:"
   ]
  },
  {
   "cell_type": "code",
   "execution_count": null,
   "id": "a6546262-a0d9-4799-aca3-3df487e8900a",
   "metadata": {},
   "outputs": [],
   "source": [
    "array_1d = np.array([1, 2, 3, 4, 5])\n",
    "print(\"1D Array:\", array_1d)\n"
   ]
  },
  {
   "cell_type": "code",
   "execution_count": null,
   "id": "d84ff27c-48aa-4030-b6b3-95e686a719df",
   "metadata": {},
   "outputs": [],
   "source": [
    "2D Array:"
   ]
  },
  {
   "cell_type": "code",
   "execution_count": null,
   "id": "4ec19640-ffb7-4c65-abff-5b0e5f1b7b5e",
   "metadata": {},
   "outputs": [],
   "source": [
    "array_2d = np.array([[1, 2, 3], [4, 5, 6]])\n",
    "print(\"2D Array:\\n\", array_2d)\n"
   ]
  },
  {
   "cell_type": "code",
   "execution_count": null,
   "id": "0d9063af-fc30-48d9-b251-8187ee2fbb14",
   "metadata": {},
   "outputs": [],
   "source": [
    "3D Array:"
   ]
  },
  {
   "cell_type": "code",
   "execution_count": null,
   "id": "673797cb-f56e-454c-9b6e-f5c4082eb3b6",
   "metadata": {},
   "outputs": [],
   "source": [
    "array_3d = np.array([[[1, 2], [3, 4]], [[5, 6], [7, 8]]])\n",
    "print(\"3D Array:\\n\", array_3d)\n"
   ]
  },
  {
   "cell_type": "code",
   "execution_count": null,
   "id": "c3e747f4-54c3-4ec7-a41d-4b73b8b4cbc8",
   "metadata": {},
   "outputs": [],
   "source": [
    "Performing Basic Arithmetic Operations\n",
    "NumPy arrays allow element-wise arithmetic operations:"
   ]
  },
  {
   "cell_type": "code",
   "execution_count": 36,
   "id": "bd145933-762a-4c08-8975-d118df909de2",
   "metadata": {},
   "outputs": [
    {
     "name": "stdout",
     "output_type": "stream",
     "text": [
      "Addition: [5 7 9]\n",
      "Subtraction: [-3 -3 -3]\n",
      "Multiplication: [ 4 10 18]\n",
      "Division: [0.25 0.4  0.5 ]\n"
     ]
    }
   ],
   "source": [
    "# Arrays for operations\n",
    "a = np.array([1, 2, 3])\n",
    "b = np.array([4, 5, 6])\n",
    "\n",
    "\n",
    "print(\"Addition:\", a + b)  \n",
    "\n",
    "\n",
    "print(\"Subtraction:\", a - b)  \n",
    "\n",
    "\n",
    "print(\"Multiplication:\", a * b)  \n",
    "\n",
    "\n",
    "print(\"Division:\", a / b)  \n"
   ]
  },
  {
   "cell_type": "code",
   "execution_count": null,
   "id": "8a0b1f1d-058a-4fbc-8de6-c962be7a4f31",
   "metadata": {},
   "outputs": [],
   "source": [
    "Array Manipulation Functions\n",
    "NumPy offers various functions for reshaping and manipulating arrays:\n",
    "\n",
    "Reshape: Change the shape of an array."
   ]
  },
  {
   "cell_type": "code",
   "execution_count": 45,
   "id": "7307f95d-a1de-4c4b-9b9b-7062bd076b1f",
   "metadata": {},
   "outputs": [
    {
     "name": "stdout",
     "output_type": "stream",
     "text": [
      "Original 1D Array: [1 2 3 4 5]\n",
      "Reshaped 1D Array to 2D:\n",
      " [[1]\n",
      " [2]\n",
      " [3]\n",
      " [4]\n",
      " [5]]\n"
     ]
    }
   ],
   "source": [
    "import numpy as np\n",
    "\n",
    "# Define the 1D array\n",
    "array_1d = np.array([1, 2, 3, 4, 5])\n",
    "print(\"Original 1D Array:\", array_1d)\n",
    "\n",
    "# Reshape the 1D array to a 2D array\n",
    "reshaped_array = array_1d.reshape((5, 1))\n",
    "print(\"Reshaped 1D Array to 2D:\\n\", reshaped_array)\n",
    "\n"
   ]
  },
  {
   "cell_type": "code",
   "execution_count": null,
   "id": "3c74c08a-c77a-40d6-aa4c-78317418e820",
   "metadata": {},
   "outputs": [],
   "source": []
  },
  {
   "cell_type": "code",
   "execution_count": 42,
   "id": "f26d9a58-efe4-489d-a6d4-31b9030f2c30",
   "metadata": {},
   "outputs": [
    {
     "name": "stdout",
     "output_type": "stream",
     "text": [
      "Original 2D Array:\n",
      " [[1 2 3]\n",
      " [4 5 6]]\n",
      "Transposed 2D Array:\n",
      " [[1 4]\n",
      " [2 5]\n",
      " [3 6]]\n"
     ]
    }
   ],
   "source": [
    "import numpy as np\n",
    "\n",
    "# Define the 2D array\n",
    "array_2d = np.array([[1, 2, 3], [4, 5, 6]])\n",
    "print(\"Original 2D Array:\\n\", array_2d)\n",
    "\n",
    "# Transpose the 2D array\n",
    "transposed_array = array_2d.T\n",
    "print(\"Transposed 2D Array:\\n\", transposed_array)\n"
   ]
  },
  {
   "cell_type": "code",
   "execution_count": null,
   "id": "1bbd1c73-00f7-499b-9664-12fc8434c40b",
   "metadata": {},
   "outputs": [],
   "source": [
    "Concatenate: Join arrays along an axis."
   ]
  },
  {
   "cell_type": "code",
   "execution_count": null,
   "id": "b1a16c61-a413-4e01-bd15-3dcb720a8466",
   "metadata": {},
   "outputs": [],
   "source": [
    "Creating and Using NumPy Random Number Generators\n",
    "NumPy has a random module for generating random numbers. Here are a few examples:\n",
    "\n",
    "Random Integers: Generate a 2D array of random integers."
   ]
  },
  {
   "cell_type": "code",
   "execution_count": 46,
   "id": "8374f580-d0f0-4b87-a67d-4b3481cba280",
   "metadata": {},
   "outputs": [
    {
     "name": "stdout",
     "output_type": "stream",
     "text": [
      "Random Integers Array:\n",
      " [[7 8 3]\n",
      " [8 9 1]\n",
      " [3 1 2]]\n"
     ]
    }
   ],
   "source": [
    "random_integers = np.random.randint(1, 10, (3, 3))\n",
    "print(\"Random Integers Array:\\n\", random_integers)\n"
   ]
  },
  {
   "cell_type": "code",
   "execution_count": null,
   "id": "fc0c9027-38e1-4d36-aa93-a9a4926eaf17",
   "metadata": {},
   "outputs": [],
   "source": [
    "Random Floats: Generate an array of random floats between 0 and 1."
   ]
  },
  {
   "cell_type": "code",
   "execution_count": 47,
   "id": "d8cf0063-aaff-42bd-aa77-021a17bef0c2",
   "metadata": {},
   "outputs": [
    {
     "name": "stdout",
     "output_type": "stream",
     "text": [
      "Random Floats Array: [0.98418572 0.39732432 0.86481447 0.92687281 0.7832623 ]\n"
     ]
    }
   ],
   "source": [
    "random_floats = np.random.rand(5)\n",
    "print(\"Random Floats Array:\", random_floats)\n"
   ]
  },
  {
   "cell_type": "code",
   "execution_count": null,
   "id": "b0d41ae7-ed21-4890-8287-ce3b0d707d6d",
   "metadata": {},
   "outputs": [],
   "source": [
    "Normal Distribution: Generate an array with a normal distribution."
   ]
  },
  {
   "cell_type": "code",
   "execution_count": 48,
   "id": "eaefec3a-f2c8-4d81-bd77-7f115b54b663",
   "metadata": {},
   "outputs": [
    {
     "name": "stdout",
     "output_type": "stream",
     "text": [
      "Normal Distribution Array:\n",
      " [[ 0.34841645  1.49654829  0.58072749  0.30402736]\n",
      " [ 0.24740949 -0.07039842 -1.11432608 -0.48188975]\n",
      " [ 0.75043568 -0.6410977  -0.4541954  -0.59346081]\n",
      " [ 0.72920581 -0.8489995   0.58520205 -0.11989178]]\n"
     ]
    }
   ],
   "source": [
    "normal_distribution = np.random.randn(4, 4)\n",
    "print(\"Normal Distribution Array:\\n\", normal_distribution)\n"
   ]
  },
  {
   "cell_type": "code",
   "execution_count": null,
   "id": "bf21e9bf-1e1b-4f92-a636-1874a32c77ab",
   "metadata": {},
   "outputs": [],
   "source": [
    "Creating Pandas Series and DataFrames"
   ]
  },
  {
   "cell_type": "code",
   "execution_count": 49,
   "id": "45a59bb0-18bd-46ea-b4c5-73a122f3199f",
   "metadata": {},
   "outputs": [
    {
     "name": "stdout",
     "output_type": "stream",
     "text": [
      "Pandas Series:\n",
      "0    10\n",
      "1    20\n",
      "2    30\n",
      "3    40\n",
      "4    50\n",
      "Name: Sample Data, dtype: int64\n",
      "\n",
      "DataFrame:\n",
      "      Name  Age         City\n",
      "0    Alice   24     New York\n",
      "1      Bob   27  Los Angeles\n",
      "2  Charlie   22      Chicago\n",
      "3    David   32      Houston\n",
      "4      Eve   29      Phoenix\n"
     ]
    }
   ],
   "source": [
    "import pandas as pd\n",
    "\n",
    "# Creating a Series\n",
    "data = [10, 20, 30, 40, 50]\n",
    "series = pd.Series(data, name=\"Sample Data\")\n",
    "print(\"Pandas Series:\")\n",
    "print(series)\n",
    "\n",
    "# Creating a DataFrame\n",
    "data_dict = {\n",
    "    \"Name\": [\"Alice\", \"Bob\", \"Charlie\", \"David\", \"Eve\"],\n",
    "    \"Age\": [24, 27, 22, 32, 29],\n",
    "    \"City\": [\"New York\", \"Los Angeles\", \"Chicago\", \"Houston\", \"Phoenix\"]\n",
    "}\n",
    "df = pd.DataFrame(data_dict)\n",
    "print(\"\\nDataFrame:\")\n",
    "print(df)\n"
   ]
  },
  {
   "cell_type": "code",
   "execution_count": null,
   "id": "4ad1730c-7be9-47bb-8ef0-36a9afc1776a",
   "metadata": {},
   "outputs": [],
   "source": [
    "Loading Data from Various File Formats\n",
    "Let’s load data from a CSV and Excel file. Assuming you have data.csv and data.xlsx files in your directory."
   ]
  },
  {
   "cell_type": "code",
   "execution_count": null,
   "id": "7ba4d862-72f7-4fa6-a4a1-a82b71f76e44",
   "metadata": {},
   "outputs": [],
   "source": [
    "# Load data from CSV\n",
    "csv_df = pd.read_csv(\"data.csv\")\n",
    "print(\"Data loaded from CSV:\")\n",
    "print(csv_df.head())\n",
    "\n",
    "# Load data from Excel\n",
    "excel_df = pd.read_excel(\"data.xlsx\", sheet_name=\"Sheet1\")\n",
    "print(\"\\nData loaded from Excel:\")\n",
    "print(excel_df.head())\n"
   ]
  },
  {
   "cell_type": "code",
   "execution_count": null,
   "id": "984a5529-af67-44d5-8b1f-959867c2903c",
   "metadata": {},
   "outputs": [],
   "source": [
    "Data Cleaning and Manipulation\n",
    "Let’s clean the DataFrame by filling in missing values and manipulating columns."
   ]
  },
  {
   "cell_type": "code",
   "execution_count": 51,
   "id": "134bb288-c5e0-48a1-b181-d6e6be105faf",
   "metadata": {},
   "outputs": [
    {
     "name": "stdout",
     "output_type": "stream",
     "text": [
      "Data with missing values filled:\n",
      "      Name  Age         City\n",
      "0    Alice   24     New York\n",
      "1      Bob   27  Los Angeles\n",
      "2  Charlie   22      Chicago\n",
      "3    David   32      Houston\n",
      "4      Eve   29      Phoenix\n",
      "\n",
      "Data with a new column 'Age_Group':\n",
      "      Name  Age         City Age_Group\n",
      "0    Alice   24     New York     Young\n",
      "1      Bob   27  Los Angeles     Young\n",
      "2  Charlie   22      Chicago     Young\n",
      "3    David   32      Houston       Old\n",
      "4      Eve   29      Phoenix     Young\n",
      "\n",
      "Data with renamed column 'City' to 'Location':\n",
      "      Name  Age     Location Age_Group\n",
      "0    Alice   24     New York     Young\n",
      "1      Bob   27  Los Angeles     Young\n",
      "2  Charlie   22      Chicago     Young\n",
      "3    David   32      Houston       Old\n",
      "4      Eve   29      Phoenix     Young\n"
     ]
    }
   ],
   "source": [
    "# Fill missing values with a default value\n",
    "df_filled = df.fillna(\"Unknown\")\n",
    "print(\"Data with missing values filled:\")\n",
    "print(df_filled)\n",
    "\n",
    "# Add a new column\n",
    "df[\"Age_Group\"] = [\"Young\" if age < 30 else \"Old\" for age in df[\"Age\"]]\n",
    "print(\"\\nData with a new column 'Age_Group':\")\n",
    "print(df)\n",
    "\n",
    "# Rename columns\n",
    "df.rename(columns={\"City\": \"Location\"}, inplace=True)\n",
    "print(\"\\nData with renamed column 'City' to 'Location':\")\n",
    "print(df)\n"
   ]
  },
  {
   "cell_type": "code",
   "execution_count": null,
   "id": "67ac24c1-cf78-4926-b2da-f94055078ae7",
   "metadata": {},
   "outputs": [],
   "source": [
    "Data Analysis and Visualization\n",
    "Using Pandas with Matplotlib for basic visualization."
   ]
  },
  {
   "cell_type": "code",
   "execution_count": 52,
   "id": "c11e8d0f-9399-48de-b5fe-88ff9f32c44a",
   "metadata": {},
   "outputs": [
    {
     "name": "stdout",
     "output_type": "stream",
     "text": [
      "Statistical Summary:\n",
      "             Age\n",
      "count   5.000000\n",
      "mean   26.800000\n",
      "std     3.962323\n",
      "min    22.000000\n",
      "25%    24.000000\n",
      "50%    27.000000\n",
      "75%    29.000000\n",
      "max    32.000000\n"
     ]
    },
    {
     "data": {
      "image/png": "[encoded data removed]",
      "text/plain": [
       "<Figure size 640x480 with 1 Axes>"
      ]
     },
     "metadata": {},
     "output_type": "display_data"
    }
   ],
   "source": [
    "import matplotlib.pyplot as plt\n",
    "\n",
    "# Basic statistical summary\n",
    "print(\"Statistical Summary:\")\n",
    "print(df.describe())\n",
    "\n",
    "# Plot Age distribution\n",
    "plt.hist(df[\"Age\"], bins=5, color=\"skyblue\", edgecolor=\"black\")\n",
    "plt.title(\"Age Distribution\")\n",
    "plt.xlabel(\"Age\")\n",
    "plt.ylabel(\"Frequency\")\n",
    "plt.show()\n"
   ]
  },
  {
   "cell_type": "code",
   "execution_count": null,
   "id": "1c9f7e6c-e030-4f27-9e23-850f8e86bece",
   "metadata": {},
   "outputs": [],
   "source": [
    " Creating Pivot Tables and Grouping Data\n",
    "You can summarize data by grouping or creating pivot tables."
   ]
  },
  {
   "cell_type": "code",
   "execution_count": 53,
   "id": "259c5f80-571c-42f3-8763-6dba8c143349",
   "metadata": {},
   "outputs": [
    {
     "name": "stdout",
     "output_type": "stream",
     "text": [
      "Pivot Table:\n",
      "            Age\n",
      "Age_Group      \n",
      "Old        32.0\n",
      "Young      25.5\n",
      "\n",
      "Group by Age_Group and count:\n",
      "Age_Group\n",
      "Old      1\n",
      "Young    4\n",
      "dtype: int64\n"
     ]
    }
   ],
   "source": [
    "# Creating a pivot table\n",
    "pivot_table = df.pivot_table(values=\"Age\", index=\"Age_Group\", aggfunc=\"mean\")\n",
    "print(\"Pivot Table:\")\n",
    "print(pivot_table)\n",
    "\n",
    "# Group by Age_Group and count\n",
    "grouped = df.groupby(\"Age_Group\").size()\n",
    "print(\"\\nGroup by Age_Group and count:\")\n",
    "print(grouped)\n"
   ]
  },
  {
   "cell_type": "code",
   "execution_count": null,
   "id": "f1540a29-7cfb-456a-b850-73036028586b",
   "metadata": {},
   "outputs": [],
   "source": [
    "Basic if, else, and elif Statements"
   ]
  },
  {
   "cell_type": "code",
   "execution_count": 54,
   "id": "692f59a1-9e7e-400e-9dc1-6eb42b67a7b9",
   "metadata": {},
   "outputs": [
    {
     "name": "stdout",
     "output_type": "stream",
     "text": [
      "It's a warm day!\n"
     ]
    }
   ],
   "source": [
    "# Define a variable\n",
    "temperature = 25\n",
    "\n",
    "# Conditional statements\n",
    "if temperature > 30:\n",
    "    print(\"It's a hot day!\")\n",
    "elif temperature > 20:\n",
    "    print(\"It's a warm day!\")\n",
    "else:\n",
    "    print(\"It's a cold day!\")\n"
   ]
  },
  {
   "cell_type": "code",
   "execution_count": null,
   "id": "859cfc90-76fc-4085-8cfd-3de783f6b8cb",
   "metadata": {},
   "outputs": [],
   "source": [
    "Complex Conditional Expressions\n",
    "You can use logical operators like and, or, and not to form complex conditions."
   ]
  },
  {
   "cell_type": "code",
   "execution_count": 55,
   "id": "cc2b807b-a17e-41dd-9c00-d2573b56f620",
   "metadata": {},
   "outputs": [
    {
     "name": "stdout",
     "output_type": "stream",
     "text": [
      "It's a sunny day, but we have work.\n"
     ]
    }
   ],
   "source": [
    "# Define variables\n",
    "is_sunny = True\n",
    "is_weekend = False\n",
    "\n",
    "# Complex condition\n",
    "if is_sunny and is_weekend:\n",
    "    print(\"Let's go to the beach!\")\n",
    "elif is_sunny and not is_weekend:\n",
    "    print(\"It's a sunny day, but we have work.\")\n",
    "elif not is_sunny and is_weekend:\n",
    "    print(\"We can relax at home since it’s cloudy.\")\n",
    "else:\n",
    "    print(\"It's a workday and cloudy.\")\n"
   ]
  },
  {
   "cell_type": "code",
   "execution_count": null,
   "id": "2a476bd6-45b7-42db-98c1-c3f324f9b53b",
   "metadata": {},
   "outputs": [],
   "source": [
    " Nested if Statements\n",
    "Nested if statements allow you to add more layers of conditions inside another if statement."
   ]
  },
  {
   "cell_type": "code",
   "execution_count": 56,
   "id": "b71c967f-3e9b-4f50-aabb-31a80f10cb74",
   "metadata": {},
   "outputs": [
    {
     "name": "stdout",
     "output_type": "stream",
     "text": [
      "You can watch the movie.\n"
     ]
    }
   ],
   "source": [
    "# Define variables\n",
    "age = 20\n",
    "has_ticket = True\n",
    "\n",
    "# Nested if statement\n",
    "if has_ticket:\n",
    "    if age >= 18:\n",
    "        print(\"You can watch the movie.\")\n",
    "    else:\n",
    "        print(\"You need to be at least 18 to watch this movie.\")\n",
    "else:\n",
    "    print(\"You need a ticket to watch the movie.\")\n"
   ]
  },
  {
   "cell_type": "code",
   "execution_count": null,
   "id": "3d7e2254-ca7d-4acf-8892-ef5f65916e51",
   "metadata": {},
   "outputs": [],
   "source": [
    "Combining All Together\n",
    "Let's create a program that combines basic conditional statements, complex conditions, and nested if statements."
   ]
  },
  {
   "cell_type": "code",
   "execution_count": 57,
   "id": "6fe9e3f0-28e9-49ac-ab82-4a6453f024af",
   "metadata": {},
   "outputs": [
    {
     "name": "stdout",
     "output_type": "stream",
     "text": [
      "You get a 20% discount as a member.\n"
     ]
    }
   ],
   "source": [
    "# Define variables\n",
    "age = 30\n",
    "is_member = True\n",
    "has_coupon = False\n",
    "\n",
    "# Conditional logic\n",
    "if age >= 18:\n",
    "    if is_member:\n",
    "        if has_coupon:\n",
    "            print(\"You get a 30% discount!\")\n",
    "        else:\n",
    "            print(\"You get a 20% discount as a member.\")\n",
    "    elif has_coupon:\n",
    "        print(\"You get a 15% discount with your coupon.\")\n",
    "    else:\n",
    "        print(\"You get a 10% discount for adults.\")\n",
    "else:\n",
    "    print(\"You're too young for a discount.\")\n"
   ]
  },
  {
   "cell_type": "code",
   "execution_count": null,
   "id": "bb7b35d3-6cda-4fff-87ac-737cabcccf29",
   "metadata": {},
   "outputs": [],
   "source": [
    " For Loop to Iterate Over Sequences\n",
    "Let's iterate over a list of fruits:"
   ]
  },
  {
   "cell_type": "code",
   "execution_count": 58,
   "id": "8b3ccade-fd18-4d9e-91d0-52f9e0b69995",
   "metadata": {},
   "outputs": [
    {
     "name": "stdout",
     "output_type": "stream",
     "text": [
      "apple\n",
      "banana\n",
      "cherry\n"
     ]
    }
   ],
   "source": [
    "fruits = [\"apple\", \"banana\", \"cherry\"]\n",
    "\n",
    "for fruit in fruits:\n",
    "    print(fruit)\n"
   ]
  },
  {
   "cell_type": "code",
   "execution_count": null,
   "id": "f51a3c4f-939c-4e6e-9e18-5741587dc920",
   "metadata": {},
   "outputs": [],
   "source": [
    "While Loop for Indefinite Iteration\n",
    "Let's use a while loop that runs until a condition is no longer true:"
   ]
  },
  {
   "cell_type": "code",
   "execution_count": 59,
   "id": "1a58b18a-d660-423f-85ed-39511718d5b1",
   "metadata": {},
   "outputs": [
    {
     "name": "stdout",
     "output_type": "stream",
     "text": [
      "Count is: 0\n",
      "Count is: 1\n",
      "Count is: 2\n"
     ]
    }
   ],
   "source": [
    "count = 0\n",
    "\n",
    "while count < 3:\n",
    "    print(\"Count is:\", count)\n",
    "    count += 1\n"
   ]
  },
  {
   "cell_type": "code",
   "execution_count": null,
   "id": "77310ad1-7fad-45cc-a3eb-761e4c9d70fb",
   "metadata": {},
   "outputs": [],
   "source": [
    "Nested Loops\n",
    "Here, we’ll create a multiplication table using nested loops:"
   ]
  },
  {
   "cell_type": "code",
   "execution_count": 60,
   "id": "23f4d85c-146d-4aea-8acd-f29bf611645e",
   "metadata": {},
   "outputs": [
    {
     "name": "stdout",
     "output_type": "stream",
     "text": [
      "1 * 1 = 1\n",
      "1 * 2 = 2\n",
      "1 * 3 = 3\n",
      "------\n",
      "2 * 1 = 2\n",
      "2 * 2 = 4\n",
      "2 * 3 = 6\n",
      "------\n",
      "3 * 1 = 3\n",
      "3 * 2 = 6\n",
      "3 * 3 = 9\n",
      "------\n"
     ]
    }
   ],
   "source": [
    "for i in range(1, 4):\n",
    "    for j in range(1, 4):\n",
    "        print(f\"{i} * {j} = {i * j}\")\n",
    "    print(\"------\")\n"
   ]
  },
  {
   "cell_type": "code",
   "execution_count": null,
   "id": "3de8198b-6c34-4347-9098-b62cf1d19d6b",
   "metadata": {},
   "outputs": [],
   "source": [
    "Using break and continue Statements\n",
    "In this example, we'll break out of the loop if a certain condition is met, and use continue to skip an iteration:"
   ]
  },
  {
   "cell_type": "code",
   "execution_count": 61,
   "id": "75326c44-9d06-449d-a78e-3fb524574df7",
   "metadata": {},
   "outputs": [
    {
     "name": "stdout",
     "output_type": "stream",
     "text": [
      "1\n",
      "2\n",
      "4\n"
     ]
    }
   ],
   "source": [
    "for i in range(1, 6):\n",
    "    if i == 3:\n",
    "        continue  # Skip the number 3\n",
    "    if i == 5:\n",
    "        break  # Stop the loop when reaching 5\n",
    "    print(i)\n"
   ]
  },
  {
   "cell_type": "code",
   "execution_count": null,
   "id": "75b444d2-b98d-482e-870e-2b47faa0a136",
   "metadata": {},
   "outputs": [],
   "source": [
    "Lists, Tuples, Sets, Dictionaries\n",
    "Create and manipulate lists, tuples, sets, and dictionaries.\n",
    "Understand the differences between these data structures.\n",
    "Perform operations like indexing, slicing, adding, removing elements.\n",
    "Explore built-in methods for each data structure.\n"
   ]
  },
  {
   "cell_type": "code",
   "execution_count": null,
   "id": "2a275750-3cad-4b72-bdcb-70df04dc3c6c",
   "metadata": {},
   "outputs": [],
   "source": [
    "1. Lists\n",
    "Definition: Ordered, mutable, and allows duplicate elements.\n",
    "Syntax: list_name = [element1, element2, ...]\n",
    "Common Operations\n",
    "Indexing: Access an element by index, e.g., list_name[0].\n",
    "Slicing: Extract a sublist, e.g., list_name[1:4].\n",
    "Adding Elements: Use .append() to add an element, or .extend() to add multiple elements.\n",
    "Removing Elements: Use .remove() to remove a specific element, or .pop() to remove by index.\n",
    "Built-in Methods: list_name.sort(), list_name.reverse(), list_name.count(value), etc.\n",
    "python"
   ]
  },
  {
   "cell_type": "code",
   "execution_count": 62,
   "id": "f8adb319-49c2-49b5-92ee-5aa5317a075a",
   "metadata": {},
   "outputs": [
    {
     "name": "stdout",
     "output_type": "stream",
     "text": [
      "[1, 2]\n"
     ]
    }
   ],
   "source": [
    "my_list = [1, 2, 3]\n",
    "my_list.append(4)  \n",
    "my_list.pop(2)    \n",
    "print(my_list[0:2]) \n"
   ]
  },
  {
   "cell_type": "code",
   "execution_count": null,
   "id": "cd6b8166-2ee8-4963-9fc6-a3f0c0c2b309",
   "metadata": {},
   "outputs": [],
   "source": [
    "Tuples\n",
    "Definition: Ordered, immutable, and allows duplicate elements.\n",
    "Syntax: tuple_name = (element1, element2, ...)\n",
    "Common Operations\n",
    "Indexing: Access elements like a list, e.g., tuple_name[1].\n",
    "Slicing: Similar to lists, tuple_name[start:end].\n",
    "Immutability: Elements cannot be changed, added, or removed.\n",
    "Built-in Methods: .count(value) and .index(value)."
   ]
  },
  {
   "cell_type": "code",
   "execution_count": 63,
   "id": "0b2e848b-9ef4-4dbb-9ea5-a7fdf81d7922",
   "metadata": {},
   "outputs": [
    {
     "name": "stdout",
     "output_type": "stream",
     "text": [
      "2\n",
      "(1, 2)\n"
     ]
    }
   ],
   "source": [
    "my_tuple = (1, 2, 3)\n",
    "print(my_tuple[1]) \n",
    "print(my_tuple[0:2]) \n"
   ]
  },
  {
   "cell_type": "code",
   "execution_count": null,
   "id": "7af8fdca-b8e9-4912-b290-d7a4849a2646",
   "metadata": {},
   "outputs": [],
   "source": [
    "Sets\n",
    "Definition: Unordered, mutable, and unique elements only (no duplicates).\n",
    "Syntax: set_name = {element1, element2, ...}\n",
    "Common Operations\n",
    "Adding Elements: Use .add() to add one element, or .update() to add multiple.\n",
    "Removing Elements: Use .remove() or .discard(). .pop() removes a random element.\n",
    "Set Operations: union, intersection, difference, symmetric_difference.\n",
    "Built-in Methods: .copy(), .clear(), .issubset(), etc.\n",
    "python"
   ]
  },
  {
   "cell_type": "code",
   "execution_count": 64,
   "id": "13940844-a9f7-4d20-8917-7e43b87d5a7d",
   "metadata": {},
   "outputs": [
    {
     "name": "stdout",
     "output_type": "stream",
     "text": [
      "{1, 3, 4}\n"
     ]
    }
   ],
   "source": [
    "my_set = {1, 2, 3}\n",
    "my_set.add(4)      \n",
    "my_set.remove(2)   \n",
    "print(my_set)\n"
   ]
  },
  {
   "cell_type": "code",
   "execution_count": null,
   "id": "1fde93c8-b544-4a62-8091-13b96648e825",
   "metadata": {},
   "outputs": [],
   "source": [
    "Dictionaries\n",
    "Definition: Unordered, mutable, stores key-value pairs.\n",
    "Syntax: dict_name = {key1: value1, key2: value2, ...}\n",
    "Common Operations\n",
    "Accessing Values: Use dict_name[key] to retrieve a value.\n",
    "Adding/Updating Elements: dict_name[key] = value assigns or updates a key-value pair.\n",
    "Removing Elements: Use .pop(key) or del dict_name[key].\n",
    "Built-in Methods: .keys(), .values(), .items(), .get(key, default)."
   ]
  },
  {
   "cell_type": "code",
   "execution_count": 65,
   "id": "9be6ebd7-6cc3-4826-919d-502fd9687e91",
   "metadata": {},
   "outputs": [
    {
     "name": "stdout",
     "output_type": "stream",
     "text": [
      "Alice\n",
      "{'name': 'Alice'}\n"
     ]
    }
   ],
   "source": [
    "my_dict = {\"name\": \"Alice\", \"age\": 25}\n",
    "print(my_dict[\"name\"]) \n",
    "my_dict[\"age\"] = 26     \n",
    "my_dict.pop(\"age\")      \n",
    "print(my_dict)\n"
   ]
  },
  {
   "cell_type": "code",
   "execution_count": null,
   "id": "790614b2-186e-48d8-8d2f-97e49921593d",
   "metadata": {},
   "outputs": [],
   "source": [
    "1. Arithmetic Operators\n",
    "Arithmetic operators are used to perform basic mathematical operations.\n",
    "\n",
    "Operator\tDescription\tExample\tOutput\n",
    "+\tAddition\t5 + 3\t8\n",
    "-\tSubtraction\t5 - 3\t2\n",
    "*\tMultiplication\t5 * 3\t15\n",
    "/\tDivision\t5 / 3\t1.6667\n",
    "%\tModulus (remainder)\t5 % 3\t2\n",
    "**\tExponentiation\t5 ** 3\t125\n",
    "//\tFloor Division\t5 // 3\t1\n",
    "Example:"
   ]
  },
  {
   "cell_type": "code",
   "execution_count": 66,
   "id": "0456e6fb-8e15-4328-8487-9a15a4477e1f",
   "metadata": {},
   "outputs": [
    {
     "name": "stdout",
     "output_type": "stream",
     "text": [
      "Addition: 14\n",
      "Subtraction: 6\n",
      "Multiplication: 40\n",
      "Division: 2.5\n",
      "Modulus: 2\n",
      "Exponent: 10000\n",
      "Floor Division: 2\n"
     ]
    }
   ],
   "source": [
    "a = 10\n",
    "b = 4\n",
    "print(\"Addition:\", a + b)        \n",
    "print(\"Subtraction:\", a - b)     \n",
    "print(\"Multiplication:\", a * b)  \n",
    "print(\"Division:\", a / b)        \n",
    "print(\"Modulus:\", a % b)        \n",
    "print(\"Exponent:\", a ** b)       \n",
    "print(\"Floor Division:\", a // b) \n"
   ]
  },
  {
   "cell_type": "code",
   "execution_count": null,
   "id": "e2498542-4349-4128-9b62-a1d4ef9d5421",
   "metadata": {},
   "outputs": [],
   "source": [
    "Comparison Operators\n",
    "Comparison operators are used to compare two values and return a Boolean result (True or False).Operator\tDescription\tExample\tOutput\n",
    "==\tEqual to\t5 == 3\tFalse\n",
    "!=\tNot equal to\t5 != 3\tTrue\n",
    ">\tGreater than\t5 > 3\tTrue\n",
    "<\tLess than\t5 < 3\tFalse\n",
    ">=\tGreater than or equal to\t5 >= 3\tTrue\n",
    "<=\tLess than or equal to\t5 <= 3\tFalse\n"
   ]
  },
  {
   "cell_type": "code",
   "execution_count": 67,
   "id": "c74482ac-1b5c-4013-a880-96cd7f2a5962",
   "metadata": {},
   "outputs": [
    {
     "name": "stdout",
     "output_type": "stream",
     "text": [
      "Equal: False\n",
      "Not Equal: True\n",
      "Greater than: True\n",
      "Less than: False\n",
      "Greater or equal: True\n",
      "Less or equal: False\n"
     ]
    }
   ],
   "source": [
    "x = 10\n",
    "y = 5\n",
    "print(\"Equal:\", x == y)           \n",
    "print(\"Not Equal:\", x != y)       \n",
    "print(\"Greater than:\", x > y)     \n",
    "print(\"Less than:\", x < y)        \n",
    "print(\"Greater or equal:\", x >= y)\n",
    "print(\"Less or equal:\", x <= y)   \n"
   ]
  },
  {
   "cell_type": "code",
   "execution_count": null,
   "id": "17d16778-f123-4ab6-9efb-5167d127f2ea",
   "metadata": {},
   "outputs": [],
   "source": [
    ". Logical Operators\n",
    "Logical operators are used to combine multiple conditions.\n",
    "\n",
    "Operator\tDescription\tExample\tOutput\n",
    "and\tLogical AND\t(5 > 3) and (5 < 10)\tTrue\n",
    "or\tLogical OR\t(5 < 3) or (5 < 10)\tTrue\n",
    "not\tLogical NOT\tnot(5 > 3)\tFalse"
   ]
  },
  {
   "cell_type": "code",
   "execution_count": 68,
   "id": "344594a1-88ce-47fe-ae98-8fbfc1f6d001",
   "metadata": {},
   "outputs": [
    {
     "name": "stdout",
     "output_type": "stream",
     "text": [
      "AND: True\n",
      "OR: True\n",
      "NOT: True\n"
     ]
    }
   ],
   "source": [
    "a = 10\n",
    "b = 5\n",
    "print(\"AND:\", (a > b) and (b < 10))  \n",
    "print(\"OR:\", (a < b) or (b < 10))   \n",
    "print(\"NOT:\", not(a < b))            \n"
   ]
  },
  {
   "cell_type": "code",
   "execution_count": null,
   "id": "201b4a99-26d1-464c-aa18-0e00c7e9feb9",
   "metadata": {},
   "outputs": [],
   "source": [
    "Assignment Operators\n",
    "Assignment operators are used to assign values to variables. They can also be used in combination with arithmetic operators.\n",
    "\n",
    "Operator\tDescription\tExample\tOutput\n",
    "=\tAssign\tx = 5\t5\n",
    "+=\tAdd and assign\tx += 3\t8\n",
    "-=\tSubtract and assign\tx -= 2\t3\n",
    "*=\tMultiply and assign\tx *= 4\t20\n",
    "/=\tDivide and assign\tx /= 5\t2.0\n",
    "//=\tFloor divide and assign\tx //= 3\t1\n",
    "%=\tModulus and assign\tx %= 3\t1\n",
    "**=\tExponent and assign\tx **= 2\t16\n",
    "Example:"
   ]
  },
  {
   "cell_type": "code",
   "execution_count": 70,
   "id": "8724d116-839f-46b9-b2c1-94f7df192eb5",
   "metadata": {},
   "outputs": [],
   "source": [
    "x = 5\n",
    "x += 3      # Equivalent to: x = x + 3; Output: 8\n",
    "x -= 2      # Equivalent to: x = x - 2; Output: 6\n",
    "x *= 4      # Equivalent to: x = x * 4; Output: 24\n",
    "x /= 6      # Equivalent to: x = x / 6; Output: 4.0\n",
    "x //= 2     # Equivalent to: x = x // 2; Output: 2.0\n",
    "x %= 3      # Equivalent to: x = x % 3; Output: 2.0\n",
    "x **= 2     # Equivalent to: x = x ** 2; Output: 4.0\n"
   ]
  },
  {
   "cell_type": "code",
   "execution_count": null,
   "id": "d21d3094-ed04-4591-8ce3-df692ea9d2ca",
   "metadata": {},
   "outputs": [],
   "source": [
    "Operator Precedence\n",
    "Operator precedence determines the order in which operations are evaluated. For example, * and / have higher precedence than + and -."
   ]
  },
  {
   "cell_type": "code",
   "execution_count": 71,
   "id": "1d8c31fd-bb6c-49b2-acd2-68fa4b5a4657",
   "metadata": {},
   "outputs": [
    {
     "name": "stdout",
     "output_type": "stream",
     "text": [
      "Result: 11\n"
     ]
    }
   ],
   "source": [
    "result = 5 + 3 * 2  # Multiplies 3 * 2 first, then adds 5\n",
    "print(\"Result:\", result)  \n"
   ]
  },
  {
   "cell_type": "code",
   "execution_count": null,
   "id": "9d51a253-5fd6-495e-ae5f-205568d36c0f",
   "metadata": {},
   "outputs": [],
   "source": [
    "Using parentheses can change precedence:"
   ]
  },
  {
   "cell_type": "code",
   "execution_count": 72,
   "id": "c83f9617-8bf4-49ef-bd20-e1c76356a7a2",
   "metadata": {},
   "outputs": [
    {
     "name": "stdout",
     "output_type": "stream",
     "text": [
      "Result with parentheses: 16\n"
     ]
    }
   ],
   "source": [
    "result = (5 + 3) * 2  # Adds 5 + 3 first, then multiplies by 2\n",
    "print(\"Result with parentheses:\", result)  \n"
   ]
  },
  {
   "cell_type": "code",
   "execution_count": null,
   "id": "4009b711-f8b8-4f65-9df6-e991faef11de",
   "metadata": {},
   "outputs": [],
   "source": [
    " Import Pandas and Read CSV\n",
    "First, import the Pandas library and read a CSV file into a DataFrame:"
   ]
  },
  {
   "cell_type": "code",
   "execution_count": null,
   "id": "a62f7c15-699a-44ec-8963-e7d59a87507f",
   "metadata": {},
   "outputs": [],
   "source": [
    "import pandas as pd\n",
    "\n",
    "# Read CSV file\n",
    "df = pd.read_csv('your_file.csv')\n"
   ]
  },
  {
   "cell_type": "code",
   "execution_count": null,
   "id": "ce5d4b08-1879-472a-b699-065a7b9ed745",
   "metadata": {},
   "outputs": [],
   "source": [
    ": Exploring CSV Reading Options\n",
    "Pandas provides several options for reading CSV files. Here are a few useful ones:"
   ]
  },
  {
   "cell_type": "code",
   "execution_count": null,
   "id": "d4cda691-9499-43b6-81ff-611c406456ef",
   "metadata": {},
   "outputs": [],
   "source": [
    "# Reading CSV with custom delimiter\n",
    "df = pd.read_csv('your_file.csv', delimiter=';')\n",
    "\n",
    "# Reading CSV with specific columns\n",
    "df = pd.read_csv('your_file.csv', usecols=['column1', 'column2'])\n",
    "\n",
    "# Setting a specific column as the index\n",
    "df = pd.read_csv('your_file.csv', index_col='column_name')\n",
    "\n",
    "# Handling missing values as they're read\n",
    "df = pd.read_csv('your_file.csv', na_values=['?', 'NA', '--'])\n"
   ]
  },
  {
   "cell_type": "code",
   "execution_count": null,
   "id": "445acf4b-420b-4d74-8b8c-33cb0689b891",
   "metadata": {},
   "outputs": [],
   "source": [
    "Handling Missing Values\n",
    "Once you've loaded your data, it's common to encounter missing values. Pandas offers several ways to handle them:\n",
    "\n",
    "1. Check for Missing Values"
   ]
  },
  {
   "cell_type": "code",
   "execution_count": null,
   "id": "70457b20-8b46-457a-8d12-fc3bf8c9f7ac",
   "metadata": {},
   "outputs": [],
   "source": [
    "# Checking for missing values\n",
    "print(df.isnull().sum())\n"
   ]
  },
  {
   "cell_type": "code",
   "execution_count": null,
   "id": "b9ceb692-f916-4f01-a753-d3c70e4fae63",
   "metadata": {},
   "outputs": [],
   "source": [
    " Drop Missing Values\n",
    "You can remove rows or columns with missing values using .dropna():"
   ]
  },
  {
   "cell_type": "code",
   "execution_count": null,
   "id": "81407c7e-dcd9-4c45-ac26-a538cb9a76a1",
   "metadata": {},
   "outputs": [],
   "source": [
    "# Drop rows with missing values\n",
    "df = df.dropna()\n",
    "\n",
    "# Drop columns with missing values\n",
    "df = df.dropna(axis=1)\n"
   ]
  },
  {
   "cell_type": "code",
   "execution_count": null,
   "id": "75fa822b-038d-424e-a6f0-b0841002d60e",
   "metadata": {},
   "outputs": [],
   "source": [
    "Fill Missing Values\n",
    "You may want to fill missing values with a specific value or a statistical value like mean or median."
   ]
  },
  {
   "cell_type": "code",
   "execution_count": null,
   "id": "72aaf591-d088-454d-8509-83e055067c97",
   "metadata": {},
   "outputs": [],
   "source": [
    "# Fill missing values with a specific value\n",
    "df = df.fillna(0)\n",
    "\n",
    "# Fill missing values with the mean of the column\n",
    "df['column_name'] = df['column_name'].fillna(df['column_name'].mean())\n"
   ]
  },
  {
   "cell_type": "code",
   "execution_count": null,
   "id": "e7b5f9b3-bc39-48f4-ae51-7eabd74b49ef",
   "metadata": {},
   "outputs": [],
   "source": [
    "Example with Output\n",
    "Let’s combine these steps to load a CSV, fill missing values, and display the DataFrame:"
   ]
  },
  {
   "cell_type": "code",
   "execution_count": null,
   "id": "ac5ad3ad-932d-45b5-8fce-f7bbcc65d598",
   "metadata": {},
   "outputs": [],
   "source": [
    "# Read the CSV, specifying a custom delimiter and setting missing values as NaN for '?'\n",
    "df = pd.read_csv('your_file.csv', delimiter=',', na_values=['?'])\n",
    "\n",
    "# Fill missing values in a specific column with the column mean\n",
    "df['Age'] = df['Age'].fillna(df['Age'].mean())\n",
    "\n",
    "# Display the first few rows of the DataFrame\n",
    "print(df.head())\n"
   ]
  },
  {
   "cell_type": "code",
   "execution_count": null,
   "id": "c6413dc4-e414-4416-bc60-0b1027364c48",
   "metadata": {},
   "outputs": [],
   "source": [
    " String Creation\n",
    "First, let's create a sample string for demonstration:"
   ]
  },
  {
   "cell_type": "code",
   "execution_count": null,
   "id": "0c9fe039-c64c-424e-8491-aa4d69f4dba3",
   "metadata": {},
   "outputs": [],
   "source": [
    "# Sample string\n",
    "sample_string = \"   Hello, Python Programming!   \"\n"
   ]
  },
  {
   "cell_type": "code",
   "execution_count": null,
   "id": "453524b2-03ac-40ab-8f4a-daa0090a5b9a",
   "metadata": {},
   "outputs": [],
   "source": [
    "String Concatenation\n",
    "You can concatenate strings using the + operator or the .join() method."
   ]
  },
  {
   "cell_type": "code",
   "execution_count": 77,
   "id": "96828419-3190-43f3-a1f4-75dd20928236",
   "metadata": {},
   "outputs": [
    {
     "name": "stdout",
     "output_type": "stream",
     "text": [
      "Hello World\n",
      "Python is fun\n"
     ]
    }
   ],
   "source": [
    "# Concatenation using +\n",
    "string1 = \"Hello\"\n",
    "string2 = \"World\"\n",
    "concatenated_string = string1 + \" \" + string2\n",
    "print(concatenated_string)\n",
    "\n",
    "# Concatenation using join\n",
    "list_of_strings = [\"Python\", \"is\", \"fun\"]\n",
    "joined_string = \" \".join(list_of_strings)\n",
    "print(joined_string)\n"
   ]
  },
  {
   "cell_type": "code",
   "execution_count": null,
   "id": "06a05951-07ac-4e00-ae7c-29073ec12cab",
   "metadata": {},
   "outputs": [],
   "source": [
    " String Slicing\n",
    "You can slice strings to obtain substrings."
   ]
  },
  {
   "cell_type": "code",
   "execution_count": 79,
   "id": "96de4121-4e94-473d-84f5-72f958002e92",
   "metadata": {},
   "outputs": [
    {
     "name": "stdout",
     "output_type": "stream",
     "text": [
      "Hello World\n",
      "Python is fun\n",
      "Hello\n",
      "10\n",
      "-1\n",
      "   HELLO, PYTHON PROGRAMMING!   \n",
      "   hello, python programming!   \n",
      "   Hello, Python Programming!   \n",
      "'Hello, Python Programming!'\n",
      "['Hello,', 'Python', 'Programming!']\n"
     ]
    }
   ],
   "source": [
    "# Sample string\n",
    "sample_string = \"   Hello, Python Programming!   \"\n",
    "\n",
    "# 1. Concatenation\n",
    "string1 = \"Hello\"\n",
    "string2 = \"World\"\n",
    "concatenated_string = string1 + \" \" + string2\n",
    "print(concatenated_string)  # Output: Hello World\n",
    "\n",
    "list_of_strings = [\"Python\", \"is\", \"fun\"]\n",
    "joined_string = \" \".join(list_of_strings)\n",
    "print(joined_string)  # Output: Python is fun\n",
    "\n",
    "# 2. Slicing\n",
    "sliced_string = sample_string[3:8]  # From index 3 to 7\n",
    "print(sliced_string)  # Output: Hello\n",
    "\n",
    "# 3. Finding Substrings\n",
    "position = sample_string.find(\"Python\")\n",
    "print(position)  # Output: 7\n",
    "not_found_position = sample_string.find(\"Java\")\n",
    "print(not_found_position)  # Output: -1\n",
    "\n",
    "# 4. Case Conversion\n",
    "upper_string = sample_string.upper()\n",
    "print(upper_string)  # Output: \"   HELLO, PYTHON PROGRAMMING!   \"\n",
    "lower_string = sample_string.lower()\n",
    "print(lower_string)  # Output: \"   hello, python programming!   \"\n",
    "title_string = sample_string.title()\n",
    "print(title_string)  # Output: \"   Hello, Python Programming!   \"\n",
    "\n",
    "# 5. Removing Whitespace\n",
    "stripped_string = sample_string.strip()\n",
    "print(f\"'{stripped_string}'\")  # Output: 'Hello, Python Programming!'\n",
    "\n",
    "# 6. Splitting Strings\n",
    "split_string = sample_string.split()\n",
    "print(split_string)  # Output: ['Hello,', 'Python', 'Programming!']\n",
    "\n"
   ]
  },
  {
   "cell_type": "code",
   "execution_count": null,
   "id": "1ff2dca8-4b5e-4e44-a694-b1ca58a162d8",
   "metadata": {},
   "outputs": [],
   "source": [
    "Finding Substrings\n",
    "Use the .find() method to locate the position of a substring."
   ]
  },
  {
   "cell_type": "code",
   "execution_count": 80,
   "id": "e5ecc743-5e5f-4715-ab92-b9f7c74e4d23",
   "metadata": {},
   "outputs": [
    {
     "name": "stdout",
     "output_type": "stream",
     "text": [
      "10\n",
      "-1\n"
     ]
    }
   ],
   "source": [
    "# Finding substring\n",
    "position = sample_string.find(\"Python\")\n",
    "print(position)\n",
    "\n",
    "# If not found, it returns -1\n",
    "not_found_position = sample_string.find(\"Java\")\n",
    "print(not_found_position)\n"
   ]
  },
  {
   "cell_type": "code",
   "execution_count": null,
   "id": "254d9253-fa2f-44d9-95c3-6645ad0da56f",
   "metadata": {},
   "outputs": [],
   "source": [
    "Converting Case\n",
    "You can convert strings to uppercase, lowercase, and title case using built-in methods."
   ]
  },
  {
   "cell_type": "code",
   "execution_count": 81,
   "id": "821c92e8-4194-4b02-829b-fc1c418b2932",
   "metadata": {},
   "outputs": [
    {
     "name": "stdout",
     "output_type": "stream",
     "text": [
      "   HELLO, PYTHON PROGRAMMING!   \n",
      "   hello, python programming!   \n",
      "   Hello, Python Programming!   \n"
     ]
    }
   ],
   "source": [
    "# Convert to uppercase\n",
    "upper_string = sample_string.upper()\n",
    "print(upper_string)\n",
    "\n",
    "# Convert to lowercase\n",
    "lower_string = sample_string.lower()\n",
    "print(lower_string)\n",
    "\n",
    "# Convert to title case\n",
    "title_string = sample_string.title()\n",
    "print(title_string)\n"
   ]
  },
  {
   "cell_type": "code",
   "execution_count": null,
   "id": "8fcd3b92-57d7-4963-b2ca-12bf3885aec6",
   "metadata": {},
   "outputs": [],
   "source": [
    "Removing Whitespace\n",
    "To remove leading and trailing whitespace, use .strip(), .lstrip(), or .rstrip()."
   ]
  },
  {
   "cell_type": "code",
   "execution_count": 82,
   "id": "996f1169-8e69-4d9b-87f2-ffb9b9673d82",
   "metadata": {},
   "outputs": [
    {
     "name": "stdout",
     "output_type": "stream",
     "text": [
      "'Hello, Python Programming!'\n"
     ]
    }
   ],
   "source": [
    "# Removing whitespace\n",
    "stripped_string = sample_string.strip()\n",
    "print(f\"'{stripped_string}'\")  # Using quotes to visualize whitespace\n"
   ]
  },
  {
   "cell_type": "code",
   "execution_count": null,
   "id": "d12bab3b-7656-4ce6-bf0e-30eede459847",
   "metadata": {},
   "outputs": [],
   "source": [
    " Splitting Strings\n",
    "You can split a string into a list of substrings using .split()."
   ]
  },
  {
   "cell_type": "code",
   "execution_count": 83,
   "id": "c8ceabbf-5c3e-4078-bea0-c8d94e221118",
   "metadata": {},
   "outputs": [
    {
     "name": "stdout",
     "output_type": "stream",
     "text": [
      "['Hello,', 'Python', 'Programming!']\n"
     ]
    }
   ],
   "source": [
    "# Splitting the string\n",
    "split_string = sample_string.split()\n",
    "print(split_string)\n"
   ]
  },
  {
   "cell_type": "code",
   "execution_count": null,
   "id": "a450c6c9-ce2f-443e-b898-aafb7c4a579d",
   "metadata": {},
   "outputs": [],
   "source": [
    "Complete Code Example\n",
    "Here’s the complete code summarizing all the above operations:"
   ]
  },
  {
   "cell_type": "code",
   "execution_count": 84,
   "id": "732326c0-c35e-4e88-9b4a-30ea2b9ded30",
   "metadata": {},
   "outputs": [
    {
     "name": "stdout",
     "output_type": "stream",
     "text": [
      "Hello World\n",
      "Python is fun\n",
      "Hello\n",
      "10\n",
      "-1\n",
      "   HELLO, PYTHON PROGRAMMING!   \n",
      "   hello, python programming!   \n",
      "   Hello, Python Programming!   \n",
      "'Hello, Python Programming!'\n",
      "['Hello,', 'Python', 'Programming!']\n"
     ]
    }
   ],
   "source": [
    "# Sample string\n",
    "sample_string = \"   Hello, Python Programming!   \"\n",
    "\n",
    "# 1. Concatenation\n",
    "string1 = \"Hello\"\n",
    "string2 = \"World\"\n",
    "concatenated_string = string1 + \" \" + string2\n",
    "print(concatenated_string)\n",
    "\n",
    "list_of_strings = [\"Python\", \"is\", \"fun\"]\n",
    "joined_string = \" \".join(list_of_strings)\n",
    "print(joined_string)\n",
    "\n",
    "# 2. Slicing\n",
    "sliced_string = sample_string[3:8]\n",
    "print(sliced_string)\n",
    "\n",
    "# 3. Finding Substrings\n",
    "position = sample_string.find(\"Python\")\n",
    "print(position)\n",
    "not_found_position = sample_string.find(\"Java\")\n",
    "print(not_found_position)\n",
    "\n",
    "# 4. Case Conversion\n",
    "upper_string = sample_string.upper()\n",
    "print(upper_string)\n",
    "lower_string = sample_string.lower()\n",
    "print(lower_string)\n",
    "title_string = sample_string.title()\n",
    "print(title_string)\n",
    "\n",
    "# 5. Removing Whitespace\n",
    "stripped_string = sample_string.strip()\n",
    "print(f\"'{stripped_string}'\")\n",
    "\n",
    "# 6. Splitting Strings\n",
    "split_string = sample_string.split()\n",
    "print(split_string)\n"
   ]
  },
  {
   "cell_type": "code",
   "execution_count": null,
   "id": "2431acfe-6059-4f93-a013-0c4d836c5a08",
   "metadata": {},
   "outputs": [],
   "source": []
  }
 ],
 "metadata": {
  "kernelspec": {
   "display_name": "Python 3 (ipykernel)",
   "language": "python",
   "name": "python3"
  },
  "language_info": {
   "codemirror_mode": {
    "name": "ipython",
    "version": 3
   },
   "file_extension": ".py",
   "mimetype": "text/x-python",
   "name": "python",
   "nbconvert_exporter": "python",
   "pygments_lexer": "ipython3",
   "version": "3.12.4"
  }
 },
 "nbformat": 4,
 "nbformat_minor": 5
}
